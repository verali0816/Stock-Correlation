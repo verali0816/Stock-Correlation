{
 "cells": [
  {
   "cell_type": "code",
   "execution_count": 1,
   "metadata": {
    "collapsed": true
   },
   "outputs": [],
   "source": [
    "import pandas as pd\n",
    "import networkx as nx"
   ]
  },
  {
   "cell_type": "code",
   "execution_count": 11,
   "metadata": {
    "collapsed": false
   },
   "outputs": [],
   "source": [
    "sp500 = pd.read_csv('sp500.csv', index_col=0)\n",
    "# Set up a dictionary for components for further convenient\n",
    "sp500_dic = {key:val for key, val in zip(sp500['tickers'], sp500['sectors'])}\n",
    "years = [str(year) for year in range(2008,2017)]"
   ]
  },
  {
   "cell_type": "code",
   "execution_count": 13,
   "metadata": {
    "collapsed": false
   },
   "outputs": [],
   "source": [
    "for year in years:\n",
    "    # Read in correlation matrix \n",
    "    corr = pd.read_csv('corr_' + year + '.csv', index_col=0)\n",
    "    # Build network by correlation filtering methods\n",
    "    # - linked two stocks with an edge if their absolute correlation was greater than a threshold value (about 0.6).\n",
    "    corr_filter = nx.Graph()\n",
    "    for i in range(len(corr)-1):\n",
    "        for j in range(i+1, len(corr)):\n",
    "            if abs(corr.iloc[i,j]) > 0.6:\n",
    "                corr_filter.add_edge(corr.columns.values[i], corr.columns.values[j])\n",
    "    # Add sectors info to nodes\n",
    "    for n in corr_filter.nodes():\n",
    "        try:\n",
    "            corr_filter.node[n]['sectors'] = sp500_dic[n]\n",
    "        except KeyError:\n",
    "            corr_filter.remove_node(n)    \n",
    "    nx.write_gexf(corr_filter,'corr_' + year + '.gexf')"
   ]
  }
 ],
 "metadata": {
  "anaconda-cloud": {},
  "kernelspec": {
   "display_name": "Python [conda root]",
   "language": "python",
   "name": "conda-root-py"
  },
  "language_info": {
   "codemirror_mode": {
    "name": "ipython",
    "version": 2
   },
   "file_extension": ".py",
   "mimetype": "text/x-python",
   "name": "python",
   "nbconvert_exporter": "python",
   "pygments_lexer": "ipython2",
   "version": "2.7.12"
  }
 },
 "nbformat": 4,
 "nbformat_minor": 1
}
