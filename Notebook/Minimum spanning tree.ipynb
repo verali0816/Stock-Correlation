{
 "cells": [
  {
   "cell_type": "markdown",
   "metadata": {},
   "source": [
    "### Build minimum spanning tree  \n",
    "1. Calculate the correlation matrix of price change\n",
    "2. Obtain the edge list by Prim's algorithm of minimum spanning tree\n",
    "3. Creat the Graph object by networkingx  \n",
    "\n",
    "### Schematising of Minimum Spanning Tree:\n",
    "1. rank a couple of vertices(stocks) from the nearest to the farthest  \n",
    "2. draw the first edge from this rank  \n",
    "3. continue in the rank  \n",
    "4. if the new edge does not close a cycle draw it  \n",
    "5. go to point 3  \n",
    "6. stop when all the vertices have been drawn  \n",
    "\n",
    "Reference:  \n",
    "https://mktstk.com/2015/03/04/stock-market-visualization-minimum-spanning-trees/  \n",
    "http://peekaboo-vision.blogspot.com/2012/02/simplistic-minimum-spanning-tree-in.html  "
   ]
  },
  {
   "cell_type": "code",
   "execution_count": 290,
   "metadata": {
    "collapsed": false
   },
   "outputs": [],
   "source": [
    "import numpy as np\n",
    "import pandas as pd\n",
    "import networkx as nx\n",
    "import matplotlib.pyplot as plt\n",
    "%matplotlib inline"
   ]
  },
  {
   "cell_type": "code",
   "execution_count": 3,
   "metadata": {
    "collapsed": true
   },
   "outputs": [],
   "source": [
    "# Prim's algotithm to get edge list by minimum spanning trees\n",
    "def minimum_spanning_tree(X, copy_X=True):\n",
    "    \"\"\"X are edge weights of fully connected graph\"\"\"\n",
    "    if copy_X:\n",
    "        X = X.copy()\n",
    " \n",
    "    if X.shape[0] != X.shape[1]:\n",
    "        raise ValueError(\"X needs to be square matrix of edge weights\")\n",
    "    n_vertices = X.shape[0]\n",
    "    spanning_edges = []\n",
    "     \n",
    "    # initialize with node 0:                                                                                         \n",
    "    visited_vertices = [0]                                                                                            \n",
    "    num_visited = 1\n",
    "    # exclude self connections:\n",
    "    diag_indices = np.arange(n_vertices)\n",
    "    X[diag_indices, diag_indices] = np.inf\n",
    "     \n",
    "    while num_visited != n_vertices:\n",
    "        new_edge = np.argmin(X[visited_vertices], axis=None)\n",
    "        # 2d encoding of new_edge from flat, get correct indices                                                      \n",
    "        new_edge = divmod(new_edge, n_vertices)\n",
    "        new_edge = [visited_vertices[new_edge[0]], new_edge[1]]                                                       \n",
    "        # add edge to tree\n",
    "        spanning_edges.append(new_edge)\n",
    "        visited_vertices.append(new_edge[1])\n",
    "        # remove all edges inside current tree\n",
    "        X[visited_vertices, new_edge[1]] = np.inf\n",
    "        X[new_edge[1], visited_vertices] = np.inf                                                                     \n",
    "        num_visited += 1\n",
    "    return np.vstack(spanning_edges)"
   ]
  },
  {
   "cell_type": "code",
   "execution_count": 16,
   "metadata": {
    "collapsed": false
   },
   "outputs": [],
   "source": [
    "years = [str(y) for y in range(2008, 2017)]\n",
    "for year in years:\n",
    "    # Read in correlation matrix\n",
    "    corr = pd.read_csv('corr_' + year +'.csv', index_col=0)\n",
    "    # Calculate the distance between pairwise stocks\n",
    "    # distance[i, j] = sqrt(2.0 * ( 1 – correlation[i, j] ) )\n",
    "    dist = np.sqrt(2*(1- corr)) \n",
    "    #dist.to_csv('dist_2016.csv')\n",
    "    # Get edges\n",
    "    dist = np.array(dist)\n",
    "    edge_list_raw = minimum_spanning_tree(dist)\n",
    "    edge_list = []\n",
    "    for i, j in edge_list_raw:\n",
    "        edge = (corr.columns.values[i], corr.columns.values[j])\n",
    "        edge_list.append(edge)\n",
    "\n",
    "    # Export edges\n",
    "    #edges = pd.DataFrame(edge_list)\n",
    "    #edges.to_csv('edges_2016.csv')\n",
    "    \n",
    "    # Create graph object by adding edges\n",
    "    mst = nx.Graph()\n",
    "    for i, j in edge_list:\n",
    "        mst.add_edge(i,j)\n",
    "    \n",
    "    # Export network for further use in Gephi\n",
    "    nx.write_gexf(mst, 'mst_' + year + '.gexf')"
   ]
  },
  {
   "cell_type": "markdown",
   "metadata": {},
   "source": [
    "### Portfolio Selection Based on MST \n",
    "#### Measurements of centrality and peripherality\n",
    "\n",
    "(I) Degree K, the number of neighbor nodes connected to a node. The larger the K is, the more the edges that are associated with this node.\n",
    "\n",
    "(II) Betweenness centrality C, reflecting the contribution of a node to the connectivity of the network. Denote V as the set of nodes in the network.  \n",
    "\n",
    "Distance refers to the shortest length from a node to the central node of the network. Here, three types of definitions of a central node are introduced to reduce the error caused by a single method. Therefore three types of distances are described here.  \n",
    "\n",
    "(III) Distance on degree criterion Ddegree, a central node is the node that has the largest degree.\n",
    "\n",
    "(IV) Distance on correlation criterion Dcorrelation, a central node is the node with the highest value of the sum of correlation coefficients with its neighbors;\n",
    "\n",
    "(V) Distance on distance criterion Ddistance, a central node is the node that gives the smallest value for the mean distance.  \n",
    "\n",
    "Then we have two simple index to measure centrality and peripherality.  \n",
    "$Centrality\\ index = 0.5*Degree + 0.5*Betweenness\\ centrality$  \n",
    "$Distance\\ index = \\frac{Ddegree + Dcorrelation + Ddistance}{3}$\n",
    "\n",
    "\n",
    "#### Portfolio Selection  \n",
    "\n",
    "Central portfolio: stocks with the first 15 largest centrality index   \n",
    "Peripheral portfolio: stocks with the first 15 largest distance index  \n",
    "\n",
    "\n",
    "The central portfolios and the peripheral portfolios represent two opposite sides of correlation and agglomeration. Generally speaking, central stocks play a vital role in the market and impose strong influence on other stocks, whereas the correlations between peripheral stocks are weak and contain more noise than central stocks.\n",
    "\n",
    "Reference:  \n",
    "http://journals.plos.org/plosone/article?id=10.1371/journal.pone.0169299"
   ]
  },
  {
   "cell_type": "code",
   "execution_count": 99,
   "metadata": {
    "collapsed": false
   },
   "outputs": [],
   "source": [
    "corr = pd.read_csv('corr_2015.csv', index_col = 0)\n",
    "g = nx.read_gexf('mst_2015.gexf')\n",
    "d = nx.degree(g)\n",
    "b_c = nx.betweenness_centrality(g)"
   ]
  },
  {
   "cell_type": "code",
   "execution_count": 122,
   "metadata": {
    "collapsed": false
   },
   "outputs": [],
   "source": [
    "# Distance on degree criterion\n",
    "D_dg = {}\n",
    "\n",
    "# central node with the largest degree\n",
    "c1 = max(d, key=d.get)\n",
    "for n in g.nodes():\n",
    "    D_dg[n] = nx.shortest_path_length(g, n, c1)"
   ]
  },
  {
   "cell_type": "code",
   "execution_count": 70,
   "metadata": {
    "collapsed": false
   },
   "outputs": [],
   "source": [
    "# Distance on correlation criterion\n",
    "D_c = {}\n",
    "sum_C = {}\n",
    "\n",
    "# central node with the highest value of the sum of correlation coefficients with its neighbors\n",
    "for n in g.nodes():\n",
    "    nbs = nx.neighbors(g, n)\n",
    "    sum_C[n] = sum(corr[n][nb] for nb in nbs)\n",
    "c2 = max(sum_C, key=sum_C.get)\n",
    "\n",
    "for n in g.nodes():\n",
    "    D_c[n] = nx.shortest_path_length(g, n, c2)"
   ]
  },
  {
   "cell_type": "code",
   "execution_count": 95,
   "metadata": {
    "collapsed": false
   },
   "outputs": [],
   "source": [
    "# Distance on distance criterion\n",
    "D_d = {}\n",
    "m_d = {}\n",
    "\n",
    "# central node with the smallest mean distance\n",
    "for n in g.nodes():\n",
    "    nodes = g.nodes()\n",
    "    nodes.remove(n) \n",
    "    dd = [nx.shortest_path_length(g, n, ns) for ns in nodes]\n",
    "    m_d[n] = np.mean(dd)\n",
    "\n",
    "c3 = min(m_d, key=m_d.get)\n",
    "\n",
    "for n in g.nodes():\n",
    "    D_d[n] = nx.shortest_path_length(g, n, c3)"
   ]
  },
  {
   "cell_type": "code",
   "execution_count": 131,
   "metadata": {
    "collapsed": false,
    "scrolled": true
   },
   "outputs": [
    {
     "data": {
      "text/html": [
       "<div>\n",
       "<table border=\"1\" class=\"dataframe\">\n",
       "  <thead>\n",
       "    <tr style=\"text-align: right;\">\n",
       "      <th></th>\n",
       "      <th>Degree</th>\n",
       "      <th>Betweenness</th>\n",
       "      <th>Centrality</th>\n",
       "      <th>Ddegree</th>\n",
       "      <th>Dcorr</th>\n",
       "      <th>Ddis</th>\n",
       "      <th>Distance</th>\n",
       "    </tr>\n",
       "  </thead>\n",
       "  <tbody>\n",
       "    <tr>\n",
       "      <th>AGN</th>\n",
       "      <td>3</td>\n",
       "      <td>0.007976</td>\n",
       "      <td>1.503988</td>\n",
       "      <td>4</td>\n",
       "      <td>4</td>\n",
       "      <td>6</td>\n",
       "      <td>4.666667</td>\n",
       "    </tr>\n",
       "    <tr>\n",
       "      <th>EOG</th>\n",
       "      <td>3</td>\n",
       "      <td>0.019832</td>\n",
       "      <td>1.509916</td>\n",
       "      <td>11</td>\n",
       "      <td>11</td>\n",
       "      <td>9</td>\n",
       "      <td>10.333333</td>\n",
       "    </tr>\n",
       "    <tr>\n",
       "      <th>CPB</th>\n",
       "      <td>2</td>\n",
       "      <td>0.058204</td>\n",
       "      <td>1.029102</td>\n",
       "      <td>6</td>\n",
       "      <td>6</td>\n",
       "      <td>4</td>\n",
       "      <td>5.333333</td>\n",
       "    </tr>\n",
       "    <tr>\n",
       "      <th>EVHC</th>\n",
       "      <td>1</td>\n",
       "      <td>0.000000</td>\n",
       "      <td>0.500000</td>\n",
       "      <td>8</td>\n",
       "      <td>8</td>\n",
       "      <td>6</td>\n",
       "      <td>7.333333</td>\n",
       "    </tr>\n",
       "    <tr>\n",
       "      <th>IDXX</th>\n",
       "      <td>1</td>\n",
       "      <td>0.000000</td>\n",
       "      <td>0.500000</td>\n",
       "      <td>6</td>\n",
       "      <td>6</td>\n",
       "      <td>4</td>\n",
       "      <td>5.333333</td>\n",
       "    </tr>\n",
       "  </tbody>\n",
       "</table>\n",
       "</div>"
      ],
      "text/plain": [
       "      Degree  Betweenness  Centrality  Ddegree  Dcorr  Ddis   Distance\n",
       "AGN        3     0.007976    1.503988        4      4     6   4.666667\n",
       "EOG        3     0.019832    1.509916       11     11     9  10.333333\n",
       "CPB        2     0.058204    1.029102        6      6     4   5.333333\n",
       "EVHC       1     0.000000    0.500000        8      8     6   7.333333\n",
       "IDXX       1     0.000000    0.500000        6      6     4   5.333333"
      ]
     },
     "execution_count": 131,
     "metadata": {},
     "output_type": "execute_result"
    }
   ],
   "source": [
    "nodes_stats = pd.DataFrame.from_dict(d, orient='index')\n",
    "nodes_stats.rename(columns={0:'Degree'}, inplace=True)\n",
    "nodes_stats['Betweenness'] = b_c.values()\n",
    "nodes_stats['Centrality'] = .5*(nodes_stats['Degree'] + nodes_stats['Betweenness'])\n",
    "nodes_stats['Ddegree'] = D_dg.values()\n",
    "nodes_stats['Dcorr'] = D_c.values()\n",
    "nodes_stats['Ddis'] = D_d.values()\n",
    "nodes_stats['Distance'] = (nodes_stats['Ddegree'] + nodes_stats['Dcorr'] + nodes_stats['Ddis'])/3\n",
    "nodes_stats.head()"
   ]
  },
  {
   "cell_type": "code",
   "execution_count": 284,
   "metadata": {
    "collapsed": false
   },
   "outputs": [
    {
     "name": "stdout",
     "output_type": "stream",
     "text": [
      "['FISV', 'ITW', 'MMC', 'HD', 'DTE', 'TMO', 'HON', 'ABT', 'LLTC', 'AMGN', 'BRK-B', 'CINF', 'HSIC', 'COP', 'REG']\n"
     ]
    }
   ],
   "source": [
    "# Central Portfolio\n",
    "c = nodes_stats.sort_values(by='Centrality', ascending = False).head(15)\n",
    "portfolio_c = [name for name in c.index.values]\n",
    "print portfolio_c\n",
    "for n in portfolio_c:\n",
    "    g.node[n]['portfolio'] = 'C'"
   ]
  },
  {
   "cell_type": "code",
   "execution_count": 286,
   "metadata": {
    "collapsed": false
   },
   "outputs": [
    {
     "name": "stdout",
     "output_type": "stream",
     "text": [
      "['COG', 'EQT', 'RRC', 'CSRA', 'TSO', 'VLO', 'SWN', 'NFX', 'PXD', 'FTI', 'APC', 'CXO', 'CHK', 'APA', 'RIG']\n"
     ]
    }
   ],
   "source": [
    "# Peripheral Portfolio\n",
    "p = nodes_stats.sort_values(by='Distance', ascending = False).head(15)\n",
    "portfolio_p = [name for name in p.index.values]\n",
    "print portfolio_p\n",
    "for n in portfolio_p:\n",
    "    g.node[n]['portfolio'] = 'P'\n",
    "    \n",
    "nx.write_gexf(g, 'mst_2015_portfolio.gexf')"
   ]
  },
  {
   "cell_type": "code",
   "execution_count": 257,
   "metadata": {
    "collapsed": false
   },
   "outputs": [],
   "source": [
    "return_2016 = pd.read_csv('change_2016.csv', index_col = 0)\n",
    "price_2016 = pd.read_csv('price_2016.csv', index_col = 0)"
   ]
  },
  {
   "cell_type": "code",
   "execution_count": 210,
   "metadata": {
    "collapsed": false
   },
   "outputs": [
    {
     "name": "stdout",
     "output_type": "stream",
     "text": [
      "[True, True, True, True, True, True, True, True, True, True, True, True, True, True, False]\n",
      "[True, True, True, True, True, True, True, True, True, True, True, True, True, True, True]\n"
     ]
    }
   ],
   "source": [
    "# check data completeness\n",
    "print [s in return_2016.columns.values for s in portfolio_c]\n",
    "print [s in return_2016.columns.values for s in portfolio_p]"
   ]
  },
  {
   "cell_type": "code",
   "execution_count": 197,
   "metadata": {
    "collapsed": false
   },
   "outputs": [],
   "source": [
    "from yahoo_finance import Share\n",
    "reg = Share('REG')\n",
    "df_reg = pd.DataFrame(reg.get_historical('2016-1-1', '2016-12-31'))\n",
    "df_reg.index = df_reg['Date']"
   ]
  },
  {
   "cell_type": "code",
   "execution_count": 229,
   "metadata": {
    "collapsed": false
   },
   "outputs": [],
   "source": [
    "close_reg = df_reg['Adj_Close']\n",
    "price_reg = [float(p) for p in close_reg]"
   ]
  },
  {
   "cell_type": "code",
   "execution_count": 267,
   "metadata": {
    "collapsed": true
   },
   "outputs": [],
   "source": [
    "def portfolio_value(amount, portfolio_list):\n",
    "    \"\"\"\n",
    "    Return the value of portfolio invested.\n",
    "    Inputs:\n",
    "    amount(number): investment amount\n",
    "    portfolio_list(list): components of portfolio\"\"\"\n",
    "    portfolio_price = pd.DataFrame()\n",
    "    for c in portfolio_list:\n",
    "        try:\n",
    "            portfolio_price[c] = price_2016[c]\n",
    "        except KeyError:\n",
    "            portfolio_price[c] = price_reg\n",
    "    portfolio_unit = portfolio_price.sum(axis=1)[0]\n",
    "    share = amount/portfolio_unit\n",
    "    portfolio_value = portfolio_price.sum(axis=1)*share\n",
    "    return portfolio_value"
   ]
  },
  {
   "cell_type": "code",
   "execution_count": 235,
   "metadata": {
    "collapsed": false
   },
   "outputs": [],
   "source": [
    "sp500_2016 = pd.read_csv('sp500_2016.csv')\n",
    "price_sp500 = sp500_2016['Adjusted Close']"
   ]
  },
  {
   "cell_type": "code",
   "execution_count": 271,
   "metadata": {
    "collapsed": false
   },
   "outputs": [],
   "source": [
    "# Assume invest $100000 on the portfolio on 2016-01-01 and keep the portfolio for 1 year\n",
    "central_portfolio_value = portfolio_value(100000, portfolio_c)\n",
    "peripheral_portfolio_value = portfolio_value(100000, portfolio_p)\n",
    "# compare with marcket performance\n",
    "sp500_value = price_sp500 * (100000/price_sp500[0])"
   ]
  },
  {
   "cell_type": "code",
   "execution_count": 296,
   "metadata": {
    "collapsed": false
   },
   "outputs": [
    {
     "data": {
      "image/png": "[encoded data removed]",
      "text/plain": [
       "<matplotlib.figure.Figure at 0x114e801d0>"
      ]
     },
     "metadata": {},
     "output_type": "display_data"
    }
   ],
   "source": [
    "x = range(252)\n",
    "fig, ax = plt.subplots(figsize = (10,7))\n",
    "line1, = ax.plot(x, sp500_value, label='S&P500')\n",
    "line2, = ax.plot(x, central_portfolio_value, label='Central Portfolio')\n",
    "line3, = ax.plot(x, peripheral_portfolio_value, label = 'Peripheral Portfolio' )\n",
    "ax.set_title('Simulated Performance of Portfolios in 2016')\n",
    "ax.legend(loc='upper left')\n",
    "plt.savefig('performance of portfolio.png')\n",
    "plt.show()"
   ]
  }
 ],
 "metadata": {
  "kernelspec": {
   "display_name": "Python [conda root]",
   "language": "python",
   "name": "conda-root-py"
  },
  "language_info": {
   "codemirror_mode": {
    "name": "ipython",
    "version": 2
   },
   "file_extension": ".py",
   "mimetype": "text/x-python",
   "name": "python",
   "nbconvert_exporter": "python",
   "pygments_lexer": "ipython2",
   "version": "2.7.12"
  }
 },
 "nbformat": 4,
 "nbformat_minor": 1
}
